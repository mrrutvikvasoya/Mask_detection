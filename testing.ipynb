{
  "cells": [
    {
      "cell_type": "markdown",
      "metadata": {
        "id": "18iGw5hg-xuz"
      },
      "source": [
        "Run this code For YOLOV5\n",
        "All Required stuff in test folder"
      ]
    },
    {
      "cell_type": "code",
      "execution_count": null,
      "metadata": {
        "colab": {
          "base_uri": "https://localhost:8080/",
          "height": 1000
        },
        "id": "UJS4_tpG0tE0",
        "outputId": "9c119a44-4550-42cb-931b-72e7bf6b1dba"
      },
      "outputs": [
        {
          "name": "stdout",
          "output_type": "stream",
          "text": [
            "Cloning into 'yolov5'...\n",
            "remote: Enumerating objects: 16725, done.\u001b[K\n",
            "remote: Counting objects: 100% (46/46), done.\u001b[K\n",
            "remote: Compressing objects: 100% (39/39), done.\u001b[K\n",
            "remote: Total 16725 (delta 11), reused 32 (delta 7), pack-reused 16679\u001b[K\n",
            "Receiving objects: 100% (16725/16725), 15.31 MiB | 25.57 MiB/s, done.\n",
            "Resolving deltas: 100% (11490/11490), done.\n",
            "/content/yolov5\n",
            "Collecting gitpython>=3.1.30 (from -r requirements.txt (line 5))\n",
            "  Downloading GitPython-3.1.43-py3-none-any.whl (207 kB)\n",
            "\u001b[2K     \u001b[90m━━━━━━━━━━━━━━━━━━━━━━━━━━━━━━━━━━━━━━━━\u001b[0m \u001b[32m207.3/207.3 kB\u001b[0m \u001b[31m4.8 MB/s\u001b[0m eta \u001b[36m0:00:00\u001b[0m\n",
            "\u001b[?25hRequirement already satisfied: matplotlib>=3.3 in /usr/local/lib/python3.10/dist-packages (from -r requirements.txt (line 6)) (3.7.1)\n",
            "Requirement already satisfied: numpy>=1.23.5 in /usr/local/lib/python3.10/dist-packages (from -r requirements.txt (line 7)) (1.25.2)\n",
            "Requirement already satisfied: opencv-python>=4.1.1 in /usr/local/lib/python3.10/dist-packages (from -r requirements.txt (line 8)) (4.8.0.76)\n",
            "Collecting pillow>=10.3.0 (from -r requirements.txt (line 9))\n",
            "  Downloading pillow-10.4.0-cp310-cp310-manylinux_2_28_x86_64.whl (4.5 MB)\n",
            "\u001b[2K     \u001b[90m━━━━━━━━━━━━━━━━━━━━━━━━━━━━━━━━━━━━━━━━\u001b[0m \u001b[32m4.5/4.5 MB\u001b[0m \u001b[31m18.0 MB/s\u001b[0m eta \u001b[36m0:00:00\u001b[0m\n",
            "\u001b[?25hRequirement already satisfied: psutil in /usr/local/lib/python3.10/dist-packages (from -r requirements.txt (line 10)) (5.9.5)\n",
            "Requirement already satisfied: PyYAML>=5.3.1 in /usr/local/lib/python3.10/dist-packages (from -r requirements.txt (line 11)) (6.0.1)\n",
            "Collecting requests>=2.32.0 (from -r requirements.txt (line 12))\n",
            "  Downloading requests-2.32.3-py3-none-any.whl (64 kB)\n",
            "\u001b[2K     \u001b[90m━━━━━━━━━━━━━━━━━━━━━━━━━━━━━━━━━━━━━━━━\u001b[0m \u001b[32m64.9/64.9 kB\u001b[0m \u001b[31m6.6 MB/s\u001b[0m eta \u001b[36m0:00:00\u001b[0m\n",
            "\u001b[?25hRequirement already satisfied: scipy>=1.4.1 in /usr/local/lib/python3.10/dist-packages (from -r requirements.txt (line 13)) (1.11.4)\n",
            "Collecting thop>=0.1.1 (from -r requirements.txt (line 14))\n",
            "  Downloading thop-0.1.1.post2209072238-py3-none-any.whl (15 kB)\n",
            "Requirement already satisfied: torch>=1.8.0 in /usr/local/lib/python3.10/dist-packages (from -r requirements.txt (line 15)) (2.3.0+cu121)\n",
            "Requirement already satisfied: torchvision>=0.9.0 in /usr/local/lib/python3.10/dist-packages (from -r requirements.txt (line 16)) (0.18.0+cu121)\n",
            "Requirement already satisfied: tqdm>=4.64.0 in /usr/local/lib/python3.10/dist-packages (from -r requirements.txt (line 17)) (4.66.4)\n",
            "Collecting ultralytics>=8.2.34 (from -r requirements.txt (line 18))\n",
            "  Downloading ultralytics-8.2.48-py3-none-any.whl (793 kB)\n",
            "\u001b[2K     \u001b[90m━━━━━━━━━━━━━━━━━━━━━━━━━━━━━━━━━━━━━━━━\u001b[0m \u001b[32m793.7/793.7 kB\u001b[0m \u001b[31m26.7 MB/s\u001b[0m eta \u001b[36m0:00:00\u001b[0m\n",
            "\u001b[?25hRequirement already satisfied: pandas>=1.1.4 in /usr/local/lib/python3.10/dist-packages (from -r requirements.txt (line 27)) (2.0.3)\n",
            "Requirement already satisfied: seaborn>=0.11.0 in /usr/local/lib/python3.10/dist-packages (from -r requirements.txt (line 28)) (0.13.1)\n",
            "Requirement already satisfied: setuptools>=65.5.1 in /usr/local/lib/python3.10/dist-packages (from -r requirements.txt (line 42)) (67.7.2)\n",
            "Collecting gitdb<5,>=4.0.1 (from gitpython>=3.1.30->-r requirements.txt (line 5))\n",
            "  Downloading gitdb-4.0.11-py3-none-any.whl (62 kB)\n",
            "\u001b[2K     \u001b[90m━━━━━━━━━━━━━━━━━━━━━━━━━━━━━━━━━━━━━━━━\u001b[0m \u001b[32m62.7/62.7 kB\u001b[0m \u001b[31m7.6 MB/s\u001b[0m eta \u001b[36m0:00:00\u001b[0m\n",
            "\u001b[?25hRequirement already satisfied: contourpy>=1.0.1 in /usr/local/lib/python3.10/dist-packages (from matplotlib>=3.3->-r requirements.txt (line 6)) (1.2.1)\n",
            "Requirement already satisfied: cycler>=0.10 in /usr/local/lib/python3.10/dist-packages (from matplotlib>=3.3->-r requirements.txt (line 6)) (0.12.1)\n",
            "Requirement already satisfied: fonttools>=4.22.0 in /usr/local/lib/python3.10/dist-packages (from matplotlib>=3.3->-r requirements.txt (line 6)) (4.53.0)\n",
            "Requirement already satisfied: kiwisolver>=1.0.1 in /usr/local/lib/python3.10/dist-packages (from matplotlib>=3.3->-r requirements.txt (line 6)) (1.4.5)\n",
            "Requirement already satisfied: packaging>=20.0 in /usr/local/lib/python3.10/dist-packages (from matplotlib>=3.3->-r requirements.txt (line 6)) (24.1)\n",
            "Requirement already satisfied: pyparsing>=2.3.1 in /usr/local/lib/python3.10/dist-packages (from matplotlib>=3.3->-r requirements.txt (line 6)) (3.1.2)\n",
            "Requirement already satisfied: python-dateutil>=2.7 in /usr/local/lib/python3.10/dist-packages (from matplotlib>=3.3->-r requirements.txt (line 6)) (2.8.2)\n",
            "Requirement already satisfied: charset-normalizer<4,>=2 in /usr/local/lib/python3.10/dist-packages (from requests>=2.32.0->-r requirements.txt (line 12)) (3.3.2)\n",
            "Requirement already satisfied: idna<4,>=2.5 in /usr/local/lib/python3.10/dist-packages (from requests>=2.32.0->-r requirements.txt (line 12)) (3.7)\n",
            "Requirement already satisfied: urllib3<3,>=1.21.1 in /usr/local/lib/python3.10/dist-packages (from requests>=2.32.0->-r requirements.txt (line 12)) (2.0.7)\n",
            "Requirement already satisfied: certifi>=2017.4.17 in /usr/local/lib/python3.10/dist-packages (from requests>=2.32.0->-r requirements.txt (line 12)) (2024.6.2)\n",
            "Requirement already satisfied: filelock in /usr/local/lib/python3.10/dist-packages (from torch>=1.8.0->-r requirements.txt (line 15)) (3.15.4)\n",
            "Requirement already satisfied: typing-extensions>=4.8.0 in /usr/local/lib/python3.10/dist-packages (from torch>=1.8.0->-r requirements.txt (line 15)) (4.12.2)\n",
            "Requirement already satisfied: sympy in /usr/local/lib/python3.10/dist-packages (from torch>=1.8.0->-r requirements.txt (line 15)) (1.12.1)\n",
            "Requirement already satisfied: networkx in /usr/local/lib/python3.10/dist-packages (from torch>=1.8.0->-r requirements.txt (line 15)) (3.3)\n",
            "Requirement already satisfied: jinja2 in /usr/local/lib/python3.10/dist-packages (from torch>=1.8.0->-r requirements.txt (line 15)) (3.1.4)\n",
            "Requirement already satisfied: fsspec in /usr/local/lib/python3.10/dist-packages (from torch>=1.8.0->-r requirements.txt (line 15)) (2023.6.0)\n",
            "Collecting nvidia-cuda-nvrtc-cu12==12.1.105 (from torch>=1.8.0->-r requirements.txt (line 15))\n",
            "  Using cached nvidia_cuda_nvrtc_cu12-12.1.105-py3-none-manylinux1_x86_64.whl (23.7 MB)\n",
            "Collecting nvidia-cuda-runtime-cu12==12.1.105 (from torch>=1.8.0->-r requirements.txt (line 15))\n",
            "  Using cached nvidia_cuda_runtime_cu12-12.1.105-py3-none-manylinux1_x86_64.whl (823 kB)\n",
            "Collecting nvidia-cuda-cupti-cu12==12.1.105 (from torch>=1.8.0->-r requirements.txt (line 15))\n",
            "  Using cached nvidia_cuda_cupti_cu12-12.1.105-py3-none-manylinux1_x86_64.whl (14.1 MB)\n",
            "Collecting nvidia-cudnn-cu12==8.9.2.26 (from torch>=1.8.0->-r requirements.txt (line 15))\n",
            "  Using cached nvidia_cudnn_cu12-8.9.2.26-py3-none-manylinux1_x86_64.whl (731.7 MB)\n",
            "Collecting nvidia-cublas-cu12==12.1.3.1 (from torch>=1.8.0->-r requirements.txt (line 15))\n",
            "  Using cached nvidia_cublas_cu12-12.1.3.1-py3-none-manylinux1_x86_64.whl (410.6 MB)\n",
            "Collecting nvidia-cufft-cu12==11.0.2.54 (from torch>=1.8.0->-r requirements.txt (line 15))\n",
            "  Using cached nvidia_cufft_cu12-11.0.2.54-py3-none-manylinux1_x86_64.whl (121.6 MB)\n",
            "Collecting nvidia-curand-cu12==10.3.2.106 (from torch>=1.8.0->-r requirements.txt (line 15))\n",
            "  Using cached nvidia_curand_cu12-10.3.2.106-py3-none-manylinux1_x86_64.whl (56.5 MB)\n",
            "Collecting nvidia-cusolver-cu12==11.4.5.107 (from torch>=1.8.0->-r requirements.txt (line 15))\n",
            "  Using cached nvidia_cusolver_cu12-11.4.5.107-py3-none-manylinux1_x86_64.whl (124.2 MB)\n",
            "Collecting nvidia-cusparse-cu12==12.1.0.106 (from torch>=1.8.0->-r requirements.txt (line 15))\n",
            "  Using cached nvidia_cusparse_cu12-12.1.0.106-py3-none-manylinux1_x86_64.whl (196.0 MB)\n",
            "Collecting nvidia-nccl-cu12==2.20.5 (from torch>=1.8.0->-r requirements.txt (line 15))\n",
            "  Using cached nvidia_nccl_cu12-2.20.5-py3-none-manylinux2014_x86_64.whl (176.2 MB)\n",
            "Collecting nvidia-nvtx-cu12==12.1.105 (from torch>=1.8.0->-r requirements.txt (line 15))\n",
            "  Using cached nvidia_nvtx_cu12-12.1.105-py3-none-manylinux1_x86_64.whl (99 kB)\n",
            "Requirement already satisfied: triton==2.3.0 in /usr/local/lib/python3.10/dist-packages (from torch>=1.8.0->-r requirements.txt (line 15)) (2.3.0)\n",
            "Collecting nvidia-nvjitlink-cu12 (from nvidia-cusolver-cu12==11.4.5.107->torch>=1.8.0->-r requirements.txt (line 15))\n",
            "  Downloading nvidia_nvjitlink_cu12-12.5.82-py3-none-manylinux2014_x86_64.whl (21.3 MB)\n",
            "\u001b[2K     \u001b[90m━━━━━━━━━━━━━━━━━━━━━━━━━━━━━━━━━━━━━━━━\u001b[0m \u001b[32m21.3/21.3 MB\u001b[0m \u001b[31m54.2 MB/s\u001b[0m eta \u001b[36m0:00:00\u001b[0m\n",
            "\u001b[?25hRequirement already satisfied: py-cpuinfo in /usr/local/lib/python3.10/dist-packages (from ultralytics>=8.2.34->-r requirements.txt (line 18)) (9.0.0)\n",
            "Collecting ultralytics-thop>=2.0.0 (from ultralytics>=8.2.34->-r requirements.txt (line 18))\n",
            "  Downloading ultralytics_thop-2.0.0-py3-none-any.whl (25 kB)\n",
            "Requirement already satisfied: pytz>=2020.1 in /usr/local/lib/python3.10/dist-packages (from pandas>=1.1.4->-r requirements.txt (line 27)) (2023.4)\n",
            "Requirement already satisfied: tzdata>=2022.1 in /usr/local/lib/python3.10/dist-packages (from pandas>=1.1.4->-r requirements.txt (line 27)) (2024.1)\n",
            "Collecting smmap<6,>=3.0.1 (from gitdb<5,>=4.0.1->gitpython>=3.1.30->-r requirements.txt (line 5))\n",
            "  Downloading smmap-5.0.1-py3-none-any.whl (24 kB)\n",
            "Requirement already satisfied: six>=1.5 in /usr/local/lib/python3.10/dist-packages (from python-dateutil>=2.7->matplotlib>=3.3->-r requirements.txt (line 6)) (1.16.0)\n",
            "Requirement already satisfied: MarkupSafe>=2.0 in /usr/local/lib/python3.10/dist-packages (from jinja2->torch>=1.8.0->-r requirements.txt (line 15)) (2.1.5)\n",
            "Requirement already satisfied: mpmath<1.4.0,>=1.1.0 in /usr/local/lib/python3.10/dist-packages (from sympy->torch>=1.8.0->-r requirements.txt (line 15)) (1.3.0)\n",
            "Installing collected packages: smmap, requests, pillow, nvidia-nvtx-cu12, nvidia-nvjitlink-cu12, nvidia-nccl-cu12, nvidia-curand-cu12, nvidia-cufft-cu12, nvidia-cuda-runtime-cu12, nvidia-cuda-nvrtc-cu12, nvidia-cuda-cupti-cu12, nvidia-cublas-cu12, nvidia-cusparse-cu12, nvidia-cudnn-cu12, gitdb, nvidia-cusolver-cu12, gitpython, ultralytics-thop, thop, ultralytics\n",
            "  Attempting uninstall: requests\n",
            "    Found existing installation: requests 2.31.0\n",
            "    Uninstalling requests-2.31.0:\n",
            "      Successfully uninstalled requests-2.31.0\n",
            "  Attempting uninstall: pillow\n",
            "    Found existing installation: Pillow 9.4.0\n",
            "    Uninstalling Pillow-9.4.0:\n",
            "      Successfully uninstalled Pillow-9.4.0\n",
            "\u001b[31mERROR: pip's dependency resolver does not currently take into account all the packages that are installed. This behaviour is the source of the following dependency conflicts.\n",
            "google-colab 1.0.0 requires requests==2.31.0, but you have requests 2.32.3 which is incompatible.\n",
            "imageio 2.31.6 requires pillow<10.1.0,>=8.3.2, but you have pillow 10.4.0 which is incompatible.\u001b[0m\u001b[31m\n",
            "\u001b[0mSuccessfully installed gitdb-4.0.11 gitpython-3.1.43 nvidia-cublas-cu12-12.1.3.1 nvidia-cuda-cupti-cu12-12.1.105 nvidia-cuda-nvrtc-cu12-12.1.105 nvidia-cuda-runtime-cu12-12.1.105 nvidia-cudnn-cu12-8.9.2.26 nvidia-cufft-cu12-11.0.2.54 nvidia-curand-cu12-10.3.2.106 nvidia-cusolver-cu12-11.4.5.107 nvidia-cusparse-cu12-12.1.0.106 nvidia-nccl-cu12-2.20.5 nvidia-nvjitlink-cu12-12.5.82 nvidia-nvtx-cu12-12.1.105 pillow-10.4.0 requests-2.32.3 smmap-5.0.1 thop-0.1.1.post2209072238 ultralytics-8.2.48 ultralytics-thop-2.0.0\n"
          ]
        },
        {
          "data": {
            "application/vnd.colab-display-data+json": {
              "id": "cdc78973622643c3a2f9f5f12bc78a85",
              "pip_warning": {
                "packages": [
                  "PIL"
                ]
              }
            }
          },
          "metadata": {},
          "output_type": "display_data"
        }
      ],
      "source": [
        "!git clone https://github.com/ultralytics/yolov5\n",
        "%cd yolov5\n",
        "!pip install -r requirements.txt"
      ]
    },
    {
      "cell_type": "code",
      "execution_count": null,
      "metadata": {
        "colab": {
          "base_uri": "https://localhost:8080/"
        },
        "id": "hFmGVudc-lLP",
        "outputId": "c02441ae-f414-4271-d2a5-b3552ceb5523"
      },
      "outputs": [
        {
          "name": "stdout",
          "output_type": "stream",
          "text": [
            "Drive already mounted at /content/drive; to attempt to forcibly remount, call drive.mount(\"/content/drive\", force_remount=True).\n"
          ]
        }
      ],
      "source": [
        "# only for colab\n",
        "from google.colab import drive\n",
        "drive.mount('/content/drive')"
      ]
    },
    {
      "cell_type": "code",
      "execution_count": null,
      "metadata": {
        "id": "sd0h74FO-pOb"
      },
      "outputs": [],
      "source": [
        "# only for colab\n",
        "!cp -r /content/drive/MyDrive/test/ /content/dataset"
      ]
    },
    {
      "cell_type": "code",
      "execution_count": null,
      "metadata": {
        "colab": {
          "base_uri": "https://localhost:8080/"
        },
        "id": "zpQZMAlN-7iU",
        "outputId": "82e5c893-3c72-4f6b-ff74-5a935d870d56"
      },
      "outputs": [
        {
          "name": "stdout",
          "output_type": "stream",
          "text": [
            "\u001b[34m\u001b[1mdetect: \u001b[0mweights=['/content/drive/MyDrive/test/results/yolov5n.pt'], source=/content/drive/MyDrive/test/test/give, data=yolov5/data/coco128.yaml, imgsz=[640, 640], conf_thres=0.25, iou_thres=0.45, max_det=1000, device=, view_img=False, save_txt=False, save_csv=False, save_conf=False, save_crop=False, nosave=False, classes=None, agnostic_nms=False, augment=False, visualize=False, update=False, project=/content/drive/MyDrive/test/test/get, name=exp, exist_ok=False, line_thickness=3, hide_labels=False, hide_conf=False, half=False, dnn=False, vid_stride=1\n",
            "YOLOv5 🚀 v7.0-334-g100a423b Python-3.10.12 torch-2.3.0+cu121 CUDA:0 (Tesla T4, 15102MiB)\n",
            "\n",
            "Fusing layers... \n",
            "Model summary: 157 layers, 1763224 parameters, 0 gradients, 4.1 GFLOPs\n",
            "WARNING ⚠️ NMS time limit 0.550s exceeded\n",
            "image 1/25 /content/drive/MyDrive/test/test/give/maksssksksss0.png: 480x640 1 mask, 1 No mask, 79.9ms\n",
            "image 2/25 /content/drive/MyDrive/test/test/give/maksssksksss128.png: 640x512 1 No mask, 82.2ms\n",
            "image 3/25 /content/drive/MyDrive/test/test/give/maksssksksss17.png: 640x512 1 mask, 7.4ms\n",
            "libpng warning: iCCP: Not recognizing known sRGB profile that has been edited\n",
            "image 4/25 /content/drive/MyDrive/test/test/give/maksssksksss230.png: 480x640 5 masks, 1 Incomplete mask, 7.9ms\n",
            "image 5/25 /content/drive/MyDrive/test/test/give/maksssksksss368.png: 448x640 9 masks, 88.1ms\n",
            "image 6/25 /content/drive/MyDrive/test/test/give/maksssksksss4.png: 640x512 1 mask, 10.0ms\n",
            "image 7/25 /content/drive/MyDrive/test/test/give/maksssksksss473.png: 352x640 3 masks, 1 No mask, 80.1ms\n",
            "image 8/25 /content/drive/MyDrive/test/test/give/maksssksksss495.png: 384x640 3 masks, 5 No masks, 1 Incomplete mask, 79.2ms\n",
            "image 9/25 /content/drive/MyDrive/test/test/give/maksssksksss5.png: 448x640 2 masks, 2 No masks, 15.1ms\n",
            "image 10/25 /content/drive/MyDrive/test/test/give/maksssksksss502.png: 384x640 2 masks, 2 No masks, 8.5ms\n",
            "image 11/25 /content/drive/MyDrive/test/test/give/maksssksksss523.png: 448x640 1 mask, 1 No mask, 8.1ms\n",
            "image 12/25 /content/drive/MyDrive/test/test/give/maksssksksss55.png: 640x512 1 mask, 9.4ms\n",
            "image 13/25 /content/drive/MyDrive/test/test/give/maksssksksss57.png: 640x512 1 mask, 8.5ms\n",
            "image 14/25 /content/drive/MyDrive/test/test/give/maksssksksss609.png: 640x512 1 No mask, 11.7ms\n",
            "image 15/25 /content/drive/MyDrive/test/test/give/maksssksksss615.png: 640x512 1 No mask, 9.2ms\n",
            "image 16/25 /content/drive/MyDrive/test/test/give/maksssksksss659.png: 640x512 1 Incomplete mask, 8.0ms\n",
            "image 17/25 /content/drive/MyDrive/test/test/give/maksssksksss660.jpg: 640x480 1 Incomplete mask, 81.9ms\n",
            "image 18/25 /content/drive/MyDrive/test/test/give/maksssksksss661.jpg: 640x480 1 Incomplete mask, 9.4ms\n",
            "image 19/25 /content/drive/MyDrive/test/test/give/maksssksksss662.jpg: 640x480 1 Incomplete mask, 10.0ms\n",
            "image 20/25 /content/drive/MyDrive/test/test/give/maksssksksss774.png: 384x640 3 masks, 10.0ms\n",
            "image 21/25 /content/drive/MyDrive/test/test/give/maksssksksss794.png: 640x640 2 masks, 9.7ms\n",
            "image 22/25 /content/drive/MyDrive/test/test/give/maksssksksss80.png: 384x640 1 mask, 14.2ms\n",
            "image 23/25 /content/drive/MyDrive/test/test/give/maksssksksss806.png: 384x640 5 masks, 10.1ms\n",
            "image 24/25 /content/drive/MyDrive/test/test/give/maksssksksss835.png: 640x448 1 mask, 1 Incomplete mask, 82.5ms\n",
            "image 25/25 /content/drive/MyDrive/test/test/give/maksssksksss837.png: 640x512 1 No mask, 16.1ms\n",
            "Speed: 0.6ms pre-process, 30.3ms inference, 37.2ms NMS per image at shape (1, 3, 640, 640)\n",
            "Results saved to \u001b[1m/content/drive/MyDrive/test/test/get/exp4\u001b[0m\n"
          ]
        }
      ],
      "source": [
        "#replace path as per directory\n",
        "# give directory where images are stored and want to store after processing\n",
        "!python /yolov5/detect.py --weights results/yolov5n.pt --img 640 --conf 0.25 --source test/give --project test/get"
      ]
    },
    {
      "cell_type": "code",
      "execution_count": null,
      "metadata": {
        "colab": {
          "base_uri": "https://localhost:8080/"
        },
        "id": "E5XZyJJA_94P",
        "outputId": "b3d721cb-a6a2-4131-e922-33adcf5d0ed2"
      },
      "outputs": [
        {
          "name": "stdout",
          "output_type": "stream",
          "text": [
            "\u001b[34m\u001b[1msegment/predict: \u001b[0mweights=['/content/drive/MyDrive/test/results/yolov5n-seg.pt'], source=/content/drive/MyDrive/test/test/give, data=yolov5/data/coco128.yaml, imgsz=[640, 640], conf_thres=0.25, iou_thres=0.45, max_det=1000, device=, view_img=False, save_txt=False, save_conf=False, save_crop=False, nosave=False, classes=None, agnostic_nms=False, augment=False, visualize=False, update=False, project=/content/drive/MyDrive/test/test/get, name=exp, exist_ok=False, line_thickness=3, hide_labels=False, hide_conf=False, half=False, dnn=False, vid_stride=1, retina_masks=False\n",
            "YOLOv5 🚀 v7.0-334-g100a423b Python-3.10.12 torch-2.3.0+cu121 CUDA:0 (Tesla T4, 15102MiB)\n",
            "\n",
            "Fusing layers... \n",
            "Model summary: 165 layers, 1882456 parameters, 0 gradients, 6.7 GFLOPs\n",
            "image 1/25 /content/drive/MyDrive/test/test/give/maksssksksss0.png: 480x640 1 mask, 1 No mask, 52.5ms\n",
            "image 2/25 /content/drive/MyDrive/test/test/give/maksssksksss128.png: 640x512 1 No mask, 54.6ms\n",
            "image 3/25 /content/drive/MyDrive/test/test/give/maksssksksss17.png: 640x512 1 mask, 5.9ms\n",
            "libpng warning: iCCP: Not recognizing known sRGB profile that has been edited\n",
            "image 4/25 /content/drive/MyDrive/test/test/give/maksssksksss230.png: 480x640 5 masks, 6.6ms\n",
            "image 5/25 /content/drive/MyDrive/test/test/give/maksssksksss368.png: 448x640 8 masks, 53.2ms\n",
            "image 6/25 /content/drive/MyDrive/test/test/give/maksssksksss4.png: 640x512 1 mask, 7.6ms\n",
            "image 7/25 /content/drive/MyDrive/test/test/give/maksssksksss473.png: 352x640 3 masks, 1 No mask, 51.7ms\n",
            "image 8/25 /content/drive/MyDrive/test/test/give/maksssksksss495.png: 384x640 5 masks, 3 No masks, 1 Incomplete mask, 54.5ms\n",
            "image 9/25 /content/drive/MyDrive/test/test/give/maksssksksss5.png: 448x640 2 masks, 1 No mask, 15.2ms\n",
            "image 10/25 /content/drive/MyDrive/test/test/give/maksssksksss502.png: 384x640 2 masks, 2 No masks, 6.9ms\n",
            "image 11/25 /content/drive/MyDrive/test/test/give/maksssksksss523.png: 448x640 1 mask, 6.5ms\n",
            "image 12/25 /content/drive/MyDrive/test/test/give/maksssksksss55.png: 640x512 1 mask, 6.2ms\n",
            "image 13/25 /content/drive/MyDrive/test/test/give/maksssksksss57.png: 640x512 1 mask, 6.0ms\n",
            "image 14/25 /content/drive/MyDrive/test/test/give/maksssksksss609.png: 640x512 1 No mask, 5.9ms\n",
            "image 15/25 /content/drive/MyDrive/test/test/give/maksssksksss615.png: 640x512 1 No mask, 6.7ms\n",
            "image 16/25 /content/drive/MyDrive/test/test/give/maksssksksss659.png: 640x512 1 Incomplete mask, 6.0ms\n",
            "image 17/25 /content/drive/MyDrive/test/test/give/maksssksksss660.jpg: 640x480 1 Incomplete mask, 57.9ms\n",
            "image 18/25 /content/drive/MyDrive/test/test/give/maksssksksss661.jpg: 640x480 1 Incomplete mask, 6.1ms\n",
            "image 19/25 /content/drive/MyDrive/test/test/give/maksssksksss662.jpg: 640x480 1 mask, 1 Incomplete mask, 7.3ms\n",
            "image 20/25 /content/drive/MyDrive/test/test/give/maksssksksss774.png: 384x640 3 masks, 6.6ms\n",
            "image 21/25 /content/drive/MyDrive/test/test/give/maksssksksss794.png: 640x640 2 masks, 8.0ms\n",
            "image 22/25 /content/drive/MyDrive/test/test/give/maksssksksss80.png: 384x640 1 mask, 6.1ms\n",
            "image 23/25 /content/drive/MyDrive/test/test/give/maksssksksss806.png: 384x640 5 masks, 5.8ms\n",
            "image 24/25 /content/drive/MyDrive/test/test/give/maksssksksss835.png: 640x448 2 masks, 1 Incomplete mask, 53.0ms\n",
            "image 25/25 /content/drive/MyDrive/test/test/give/maksssksksss837.png: 640x512 1 No mask, 6.3ms\n",
            "Speed: 0.4ms pre-process, 20.1ms inference, 22.1ms NMS per image at shape (1, 3, 640, 640)\n",
            "Results saved to \u001b[1m/content/drive/MyDrive/test/test/get/exp5\u001b[0m\n"
          ]
        }
      ],
      "source": [
        "#replace path as per directory\n",
        "# give directory where images are stored and want to store want to store after processing\n",
        "!python /yolov5/segment/predict.py --weights results/yolov5n-seg.pt --img 640 --conf 0.25 --source test/give --test/get"
      ]
    },
    {
      "cell_type": "markdown",
      "metadata": {
        "id": "rzsm3t__A_Pw"
      },
      "source": [
        "Run below code for YOLOv8"
      ]
    },
    {
      "cell_type": "code",
      "execution_count": 9,
      "metadata": {
        "colab": {
          "base_uri": "https://localhost:8080/"
        },
        "id": "9vok6cavA-8z",
        "outputId": "2fe38923-c28f-4398-e314-ff2791c760d0"
      },
      "outputs": [
        {
          "name": "stdout",
          "output_type": "stream",
          "text": [
            "Requirement already satisfied: ultralytics in /usr/local/lib/python3.10/dist-packages (8.2.48)\n",
            "Requirement already satisfied: numpy<2.0.0,>=1.23.0 in /usr/local/lib/python3.10/dist-packages (from ultralytics) (1.25.2)\n",
            "Requirement already satisfied: matplotlib>=3.3.0 in /usr/local/lib/python3.10/dist-packages (from ultralytics) (3.7.1)\n",
            "Requirement already satisfied: opencv-python>=4.6.0 in /usr/local/lib/python3.10/dist-packages (from ultralytics) (4.8.0.76)\n",
            "Requirement already satisfied: pillow>=7.1.2 in /usr/local/lib/python3.10/dist-packages (from ultralytics) (10.4.0)\n",
            "Requirement already satisfied: pyyaml>=5.3.1 in /usr/local/lib/python3.10/dist-packages (from ultralytics) (6.0.1)\n",
            "Requirement already satisfied: requests>=2.23.0 in /usr/local/lib/python3.10/dist-packages (from ultralytics) (2.32.3)\n",
            "Requirement already satisfied: scipy>=1.4.1 in /usr/local/lib/python3.10/dist-packages (from ultralytics) (1.11.4)\n",
            "Requirement already satisfied: torch>=1.8.0 in /usr/local/lib/python3.10/dist-packages (from ultralytics) (2.3.0+cu121)\n",
            "Requirement already satisfied: torchvision>=0.9.0 in /usr/local/lib/python3.10/dist-packages (from ultralytics) (0.18.0+cu121)\n",
            "Requirement already satisfied: tqdm>=4.64.0 in /usr/local/lib/python3.10/dist-packages (from ultralytics) (4.66.4)\n",
            "Requirement already satisfied: psutil in /usr/local/lib/python3.10/dist-packages (from ultralytics) (5.9.5)\n",
            "Requirement already satisfied: py-cpuinfo in /usr/local/lib/python3.10/dist-packages (from ultralytics) (9.0.0)\n",
            "Requirement already satisfied: pandas>=1.1.4 in /usr/local/lib/python3.10/dist-packages (from ultralytics) (2.0.3)\n",
            "Requirement already satisfied: seaborn>=0.11.0 in /usr/local/lib/python3.10/dist-packages (from ultralytics) (0.13.1)\n",
            "Requirement already satisfied: ultralytics-thop>=2.0.0 in /usr/local/lib/python3.10/dist-packages (from ultralytics) (2.0.0)\n",
            "Requirement already satisfied: contourpy>=1.0.1 in /usr/local/lib/python3.10/dist-packages (from matplotlib>=3.3.0->ultralytics) (1.2.1)\n",
            "Requirement already satisfied: cycler>=0.10 in /usr/local/lib/python3.10/dist-packages (from matplotlib>=3.3.0->ultralytics) (0.12.1)\n",
            "Requirement already satisfied: fonttools>=4.22.0 in /usr/local/lib/python3.10/dist-packages (from matplotlib>=3.3.0->ultralytics) (4.53.0)\n",
            "Requirement already satisfied: kiwisolver>=1.0.1 in /usr/local/lib/python3.10/dist-packages (from matplotlib>=3.3.0->ultralytics) (1.4.5)\n",
            "Requirement already satisfied: packaging>=20.0 in /usr/local/lib/python3.10/dist-packages (from matplotlib>=3.3.0->ultralytics) (24.1)\n",
            "Requirement already satisfied: pyparsing>=2.3.1 in /usr/local/lib/python3.10/dist-packages (from matplotlib>=3.3.0->ultralytics) (3.1.2)\n",
            "Requirement already satisfied: python-dateutil>=2.7 in /usr/local/lib/python3.10/dist-packages (from matplotlib>=3.3.0->ultralytics) (2.8.2)\n",
            "Requirement already satisfied: pytz>=2020.1 in /usr/local/lib/python3.10/dist-packages (from pandas>=1.1.4->ultralytics) (2023.4)\n",
            "Requirement already satisfied: tzdata>=2022.1 in /usr/local/lib/python3.10/dist-packages (from pandas>=1.1.4->ultralytics) (2024.1)\n",
            "Requirement already satisfied: charset-normalizer<4,>=2 in /usr/local/lib/python3.10/dist-packages (from requests>=2.23.0->ultralytics) (3.3.2)\n",
            "Requirement already satisfied: idna<4,>=2.5 in /usr/local/lib/python3.10/dist-packages (from requests>=2.23.0->ultralytics) (3.7)\n",
            "Requirement already satisfied: urllib3<3,>=1.21.1 in /usr/local/lib/python3.10/dist-packages (from requests>=2.23.0->ultralytics) (2.0.7)\n",
            "Requirement already satisfied: certifi>=2017.4.17 in /usr/local/lib/python3.10/dist-packages (from requests>=2.23.0->ultralytics) (2024.6.2)\n",
            "Requirement already satisfied: filelock in /usr/local/lib/python3.10/dist-packages (from torch>=1.8.0->ultralytics) (3.15.4)\n",
            "Requirement already satisfied: typing-extensions>=4.8.0 in /usr/local/lib/python3.10/dist-packages (from torch>=1.8.0->ultralytics) (4.12.2)\n",
            "Requirement already satisfied: sympy in /usr/local/lib/python3.10/dist-packages (from torch>=1.8.0->ultralytics) (1.12.1)\n",
            "Requirement already satisfied: networkx in /usr/local/lib/python3.10/dist-packages (from torch>=1.8.0->ultralytics) (3.3)\n",
            "Requirement already satisfied: jinja2 in /usr/local/lib/python3.10/dist-packages (from torch>=1.8.0->ultralytics) (3.1.4)\n",
            "Requirement already satisfied: fsspec in /usr/local/lib/python3.10/dist-packages (from torch>=1.8.0->ultralytics) (2023.6.0)\n",
            "Requirement already satisfied: nvidia-cuda-nvrtc-cu12==12.1.105 in /usr/local/lib/python3.10/dist-packages (from torch>=1.8.0->ultralytics) (12.1.105)\n",
            "Requirement already satisfied: nvidia-cuda-runtime-cu12==12.1.105 in /usr/local/lib/python3.10/dist-packages (from torch>=1.8.0->ultralytics) (12.1.105)\n",
            "Requirement already satisfied: nvidia-cuda-cupti-cu12==12.1.105 in /usr/local/lib/python3.10/dist-packages (from torch>=1.8.0->ultralytics) (12.1.105)\n",
            "Requirement already satisfied: nvidia-cudnn-cu12==8.9.2.26 in /usr/local/lib/python3.10/dist-packages (from torch>=1.8.0->ultralytics) (8.9.2.26)\n",
            "Requirement already satisfied: nvidia-cublas-cu12==12.1.3.1 in /usr/local/lib/python3.10/dist-packages (from torch>=1.8.0->ultralytics) (12.1.3.1)\n",
            "Requirement already satisfied: nvidia-cufft-cu12==11.0.2.54 in /usr/local/lib/python3.10/dist-packages (from torch>=1.8.0->ultralytics) (11.0.2.54)\n",
            "Requirement already satisfied: nvidia-curand-cu12==10.3.2.106 in /usr/local/lib/python3.10/dist-packages (from torch>=1.8.0->ultralytics) (10.3.2.106)\n",
            "Requirement already satisfied: nvidia-cusolver-cu12==11.4.5.107 in /usr/local/lib/python3.10/dist-packages (from torch>=1.8.0->ultralytics) (11.4.5.107)\n",
            "Requirement already satisfied: nvidia-cusparse-cu12==12.1.0.106 in /usr/local/lib/python3.10/dist-packages (from torch>=1.8.0->ultralytics) (12.1.0.106)\n",
            "Requirement already satisfied: nvidia-nccl-cu12==2.20.5 in /usr/local/lib/python3.10/dist-packages (from torch>=1.8.0->ultralytics) (2.20.5)\n",
            "Requirement already satisfied: nvidia-nvtx-cu12==12.1.105 in /usr/local/lib/python3.10/dist-packages (from torch>=1.8.0->ultralytics) (12.1.105)\n",
            "Requirement already satisfied: triton==2.3.0 in /usr/local/lib/python3.10/dist-packages (from torch>=1.8.0->ultralytics) (2.3.0)\n",
            "Requirement already satisfied: nvidia-nvjitlink-cu12 in /usr/local/lib/python3.10/dist-packages (from nvidia-cusolver-cu12==11.4.5.107->torch>=1.8.0->ultralytics) (12.5.82)\n",
            "Requirement already satisfied: six>=1.5 in /usr/local/lib/python3.10/dist-packages (from python-dateutil>=2.7->matplotlib>=3.3.0->ultralytics) (1.16.0)\n",
            "Requirement already satisfied: MarkupSafe>=2.0 in /usr/local/lib/python3.10/dist-packages (from jinja2->torch>=1.8.0->ultralytics) (2.1.5)\n",
            "Requirement already satisfied: mpmath<1.4.0,>=1.1.0 in /usr/local/lib/python3.10/dist-packages (from sympy->torch>=1.8.0->ultralytics) (1.3.0)\n"
          ]
        }
      ],
      "source": [
        "!pip install ultralytics"
      ]
    },
    {
      "cell_type": "code",
      "execution_count": 11,
      "metadata": {
        "colab": {
          "base_uri": "https://localhost:8080/"
        },
        "id": "1EHUIITbBEQs",
        "outputId": "e8978e89-ba7e-45d1-8223-8fa5e7f2b35b"
      },
      "outputs": [
        {
          "name": "stdout",
          "output_type": "stream",
          "text": [
            "\n",
            "0: 480x640 1 mask, 1 No mask, 198.2ms\n",
            "Speed: 8.7ms preprocess, 198.2ms inference, 662.0ms postprocess per image at shape (1, 3, 480, 640)\n",
            "saved: /content/drive/MyDrive/test/test/get/maksssksksss0.png\n",
            "\n",
            "0: 640x512 1 No mask, 65.6ms\n",
            "Speed: 4.4ms preprocess, 65.6ms inference, 1.7ms postprocess per image at shape (1, 3, 640, 512)\n",
            "saved: /content/drive/MyDrive/test/test/get/maksssksksss128.png\n",
            "\n",
            "0: 640x512 1 mask, 6.8ms\n",
            "Speed: 4.6ms preprocess, 6.8ms inference, 1.2ms postprocess per image at shape (1, 3, 640, 512)\n",
            "saved: /content/drive/MyDrive/test/test/get/maksssksksss17.png\n",
            "\n",
            "0: 480x640 5 masks, 1 Incomplete mask, 7.7ms\n",
            "Speed: 3.9ms preprocess, 7.7ms inference, 1.3ms postprocess per image at shape (1, 3, 480, 640)\n",
            "saved: /content/drive/MyDrive/test/test/get/maksssksksss230.png\n",
            "\n"
          ]
        },
        {
          "name": "stderr",
          "output_type": "stream",
          "text": [
            "/usr/local/lib/python3.10/dist-packages/torch/nn/modules/conv.py:456: UserWarning: Plan failed with a cudnnException: CUDNN_BACKEND_EXECUTION_PLAN_DESCRIPTOR: cudnnFinalize Descriptor Failed cudnn_status: CUDNN_STATUS_NOT_SUPPORTED (Triggered internally at ../aten/src/ATen/native/cudnn/Conv_v8.cpp:919.)\n",
            "  return F.conv2d(input, weight, bias, self.stride,\n"
          ]
        },
        {
          "name": "stdout",
          "output_type": "stream",
          "text": [
            "0: 448x640 8 masks, 64.5ms\n",
            "Speed: 2.4ms preprocess, 64.5ms inference, 1.3ms postprocess per image at shape (1, 3, 448, 640)\n",
            "saved: /content/drive/MyDrive/test/test/get/maksssksksss368.png\n",
            "\n",
            "0: 640x512 1 mask, 7.8ms\n",
            "Speed: 5.0ms preprocess, 7.8ms inference, 1.3ms postprocess per image at shape (1, 3, 640, 512)\n",
            "saved: /content/drive/MyDrive/test/test/get/maksssksksss4.png\n",
            "\n",
            "0: 384x640 5 masks, 3 No masks, 60.4ms\n",
            "Speed: 3.3ms preprocess, 60.4ms inference, 1.3ms postprocess per image at shape (1, 3, 384, 640)\n",
            "saved: /content/drive/MyDrive/test/test/get/maksssksksss495.png\n",
            "\n",
            "0: 384x640 2 masks, 2 No masks, 7.0ms\n",
            "Speed: 5.0ms preprocess, 7.0ms inference, 1.3ms postprocess per image at shape (1, 3, 384, 640)\n",
            "saved: /content/drive/MyDrive/test/test/get/maksssksksss502.png\n",
            "\n",
            "0: 352x640 3 masks, 1 No mask, 61.4ms\n",
            "Speed: 2.1ms preprocess, 61.4ms inference, 1.3ms postprocess per image at shape (1, 3, 352, 640)\n",
            "saved: /content/drive/MyDrive/test/test/get/maksssksksss473.png\n",
            "\n",
            "0: 448x640 2 masks, 3 No masks, 7.3ms\n",
            "Speed: 4.0ms preprocess, 7.3ms inference, 1.2ms postprocess per image at shape (1, 3, 448, 640)\n",
            "saved: /content/drive/MyDrive/test/test/get/maksssksksss5.png\n",
            "\n",
            "0: 448x640 1 mask, 7.5ms\n",
            "Speed: 2.5ms preprocess, 7.5ms inference, 1.3ms postprocess per image at shape (1, 3, 448, 640)\n",
            "saved: /content/drive/MyDrive/test/test/get/maksssksksss523.png\n",
            "\n",
            "0: 640x512 1 mask, 7.2ms\n",
            "Speed: 3.4ms preprocess, 7.2ms inference, 1.2ms postprocess per image at shape (1, 3, 640, 512)\n",
            "saved: /content/drive/MyDrive/test/test/get/maksssksksss55.png\n",
            "\n",
            "0: 640x512 1 mask, 11.9ms\n",
            "Speed: 3.1ms preprocess, 11.9ms inference, 1.8ms postprocess per image at shape (1, 3, 640, 512)\n",
            "saved: /content/drive/MyDrive/test/test/get/maksssksksss57.png\n",
            "\n",
            "0: 640x512 1 No mask, 6.8ms\n",
            "Speed: 2.6ms preprocess, 6.8ms inference, 1.3ms postprocess per image at shape (1, 3, 640, 512)\n",
            "saved: /content/drive/MyDrive/test/test/get/maksssksksss609.png\n",
            "\n",
            "0: 640x512 1 No mask, 6.8ms\n",
            "Speed: 2.2ms preprocess, 6.8ms inference, 1.2ms postprocess per image at shape (1, 3, 640, 512)\n",
            "saved: /content/drive/MyDrive/test/test/get/maksssksksss615.png\n",
            "\n",
            "0: 640x512 1 mask, 1 Incomplete mask, 6.7ms\n",
            "Speed: 3.9ms preprocess, 6.7ms inference, 1.2ms postprocess per image at shape (1, 3, 640, 512)\n",
            "saved: /content/drive/MyDrive/test/test/get/maksssksksss659.png\n",
            "\n",
            "0: 384x640 3 masks, 7.5ms\n",
            "Speed: 2.8ms preprocess, 7.5ms inference, 1.2ms postprocess per image at shape (1, 3, 384, 640)\n",
            "saved: /content/drive/MyDrive/test/test/get/maksssksksss774.png\n",
            "\n",
            "0: 384x640 1 mask, 7.0ms\n",
            "Speed: 2.1ms preprocess, 7.0ms inference, 1.2ms postprocess per image at shape (1, 3, 384, 640)\n",
            "saved: /content/drive/MyDrive/test/test/get/maksssksksss80.png\n",
            "\n",
            "0: 640x640 2 masks, 10.0ms\n",
            "Speed: 3.2ms preprocess, 10.0ms inference, 1.5ms postprocess per image at shape (1, 3, 640, 640)\n",
            "saved: /content/drive/MyDrive/test/test/get/maksssksksss794.png\n",
            "\n",
            "0: 640x512 (no detections), 10.4ms\n",
            "Speed: 2.5ms preprocess, 10.4ms inference, 0.6ms postprocess per image at shape (1, 3, 640, 512)\n",
            "saved: /content/drive/MyDrive/test/test/get/maksssksksss837.png\n",
            "\n",
            "0: 384x640 5 masks, 10.6ms\n",
            "Speed: 2.9ms preprocess, 10.6ms inference, 1.6ms postprocess per image at shape (1, 3, 384, 640)\n",
            "saved: /content/drive/MyDrive/test/test/get/maksssksksss806.png\n",
            "\n",
            "0: 640x448 1 mask, 1 Incomplete mask, 73.4ms\n",
            "Speed: 3.4ms preprocess, 73.4ms inference, 1.4ms postprocess per image at shape (1, 3, 640, 448)\n",
            "saved: /content/drive/MyDrive/test/test/get/maksssksksss835.png\n",
            "\n",
            "0: 640x480 1 Incomplete mask, 89.1ms\n",
            "Speed: 3.5ms preprocess, 89.1ms inference, 1.7ms postprocess per image at shape (1, 3, 640, 480)\n",
            "saved: /content/drive/MyDrive/test/test/get/maksssksksss661.jpg\n",
            "\n",
            "0: 640x480 1 mask, 12.7ms\n",
            "Speed: 2.3ms preprocess, 12.7ms inference, 1.6ms postprocess per image at shape (1, 3, 640, 480)\n",
            "saved: /content/drive/MyDrive/test/test/get/maksssksksss662.jpg\n",
            "\n",
            "0: 640x480 1 Incomplete mask, 8.8ms\n",
            "Speed: 2.4ms preprocess, 8.8ms inference, 1.6ms postprocess per image at shape (1, 3, 640, 480)\n",
            "saved: /content/drive/MyDrive/test/test/get/maksssksksss660.jpg\n"
          ]
        }
      ],
      "source": [
        "import os\n",
        "import cv2\n",
        "from ultralytics import YOLO\n",
        "\n",
        "model = YOLO('results/yolov8n.pt')\n",
        "\n",
        "givedir = 'test/give' # take photos from\n",
        "getdir = 'test/get' # save photos to\n",
        "\n",
        "os.makedirs(getdir, exist_ok=True) # if do not have directory to save than make\n",
        "\n",
        "for filename in os.listdir(givedir):\n",
        "    if filename.endswith(('.jpg', '.png', '.jpeg')): # only accepts\n",
        "        img_path = os.path.join(givedir, filename)\n",
        "        img = cv2.imread(img_path)\n",
        "\n",
        "        results = model(img)\n",
        "\n",
        "        img_mit = results[0].plot()\n",
        "\n",
        "        destpath = os.path.join(getdir, filename)\n",
        "        cv2.imwrite(destpath, img_mit)\n",
        "        print(\"saved: \" + destpath)"
      ]
    }
  ],
  "metadata": {
    "accelerator": "GPU",
    "colab": {
      "gpuType": "T4",
      "provenance": []
    },
    "kernelspec": {
      "display_name": "Python 3",
      "name": "python3"
    },
    "language_info": {
      "name": "python"
    }
  },
  "nbformat": 4,
  "nbformat_minor": 0
}
